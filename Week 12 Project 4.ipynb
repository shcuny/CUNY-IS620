{
 "cells": [
  {
   "cell_type": "markdown",
   "metadata": {},
   "source": [
    "# Project 4\n",
    "\n",
    "Movie Review Document Classifier: 6.10 exercise 4\n",
    "\n",
    "Joy and Sonya"
   ]
  },
  {
   "cell_type": "code",
   "execution_count": 1,
   "metadata": {
    "collapsed": false
   },
   "outputs": [],
   "source": [
    "#Movie Reviews Corpus- page 227\n",
    "import nltk\n",
    "from nltk.corpus import movie_reviews\n",
    "import random\n",
    "\n",
    "documents = [(list(movie_reviews.words(fileid)), category)\n",
    "    for category in movie_reviews.categories()\n",
    "    for fileid in movie_reviews.fileids(category)]\n",
    "              \n",
    "random.shuffle(documents)\n",
    "\n",
    "all_words = nltk.FreqDist(w.lower() for w in movie_reviews.words())\n",
    "word_features = all_words.keys()[:2000]\n",
    " \n",
    "def document_features(document):\n",
    "    document_words = set(document)\n",
    "    features = {}\n",
    "    for word in word_features:\n",
    "        features['contains(%s)' % word] = (word in document_words)\n",
    "    return features\n"
   ]
  },
  {
   "cell_type": "code",
   "execution_count": 2,
   "metadata": {
    "collapsed": false
   },
   "outputs": [
    {
     "name": "stdout",
     "output_type": "stream",
     "text": [
      "0.65\n"
     ]
    }
   ],
   "source": [
    "#train a classifier to label new movie reviews\n",
    "featuresets = [(document_features(d), c) for (d,c) in documents]\n",
    "train_set, test_set = featuresets[100:], featuresets[:100]\n",
    "classifier = nltk.NaiveBayesClassifier.train(train_set)\n",
    "print nltk.classify.accuracy(classifier, test_set) "
   ]
  },
  {
   "cell_type": "code",
   "execution_count": 3,
   "metadata": {
    "collapsed": false,
    "scrolled": false
   },
   "outputs": [
    {
     "name": "stdout",
     "output_type": "stream",
     "text": [
      "Most Informative Features\n",
      "          contains(sans) = True              neg : pos    =      8.8 : 1.0\n",
      "    contains(mediocrity) = True              neg : pos    =      7.5 : 1.0\n",
      "     contains(dismissed) = True              pos : neg    =      7.1 : 1.0\n",
      "   contains(overwhelmed) = True              pos : neg    =      6.4 : 1.0\n",
      "        contains(fabric) = True              pos : neg    =      6.4 : 1.0\n",
      "     contains(uplifting) = True              pos : neg    =      6.0 : 1.0\n",
      "       contains(topping) = True              pos : neg    =      5.8 : 1.0\n",
      "          contains(wits) = True              pos : neg    =      5.8 : 1.0\n",
      "           contains(ugh) = True              neg : pos    =      5.7 : 1.0\n",
      "  contains(effortlessly) = True              pos : neg    =      5.7 : 1.0\n",
      "   contains(bruckheimer) = True              neg : pos    =      5.6 : 1.0\n",
      "   contains(understands) = True              pos : neg    =      5.5 : 1.0\n",
      "        contains(doubts) = True              pos : neg    =      5.5 : 1.0\n",
      "          contains(lang) = True              pos : neg    =      5.1 : 1.0\n",
      "         contains(wires) = True              neg : pos    =      4.9 : 1.0\n",
      "     contains(fisherman) = True              neg : pos    =      4.5 : 1.0\n",
      "        contains(intent) = True              neg : pos    =      4.5 : 1.0\n",
      "      contains(matheson) = True              pos : neg    =      4.4 : 1.0\n",
      "         contains(spins) = True              pos : neg    =      4.4 : 1.0\n",
      "     contains(depravity) = True              pos : neg    =      4.4 : 1.0\n",
      "          contains(wang) = True              pos : neg    =      4.4 : 1.0\n",
      "    contains(cronenberg) = True              pos : neg    =      4.3 : 1.0\n",
      "          contains(hugo) = True              pos : neg    =      4.3 : 1.0\n",
      "       contains(maxwell) = True              neg : pos    =      4.3 : 1.0\n",
      "         contains(locks) = True              neg : pos    =      4.3 : 1.0\n",
      "       contains(admired) = True              pos : neg    =      4.2 : 1.0\n",
      "         contains(tripe) = True              neg : pos    =      4.1 : 1.0\n",
      "     contains(testament) = True              pos : neg    =      4.0 : 1.0\n",
      "        contains(minnie) = True              pos : neg    =      3.9 : 1.0\n",
      "         contains(snake) = True              neg : pos    =      3.9 : 1.0\n"
     ]
    }
   ],
   "source": [
    "#generate a list of the 30 features that the classifer finds to be more informative\n",
    "classifier.show_most_informative_features(30)"
   ]
  },
  {
   "cell_type": "markdown",
   "metadata": {},
   "source": [
    "Based on the meaning of the words, there was no surprise for some of the feature's negative and positive results.  For example, words like \"mediocrity\",\"ugh\",\"suspension\" and \"tripe\" have a higher ratio of negative to positive and positive words such as \"uplifting\" and \"sunny\" have a higher ratio of positive words.  What was surprising was why words like \"fabric\", \"masquerading\" and \"doubts\" were considered positive.  It was interesting to note that the majority of the movie ratings top 30 words had a higher positive to negative ratio (20:10). "
   ]
  }
 ],
 "metadata": {
  "kernelspec": {
   "display_name": "Python 2",
   "language": "python",
   "name": "python2"
  },
  "language_info": {
   "codemirror_mode": {
    "name": "ipython",
    "version": 2
   },
   "file_extension": ".py",
   "mimetype": "text/x-python",
   "name": "python",
   "nbconvert_exporter": "python",
   "pygments_lexer": "ipython2",
   "version": "2.7.13"
  }
 },
 "nbformat": 4,
 "nbformat_minor": 2
}
