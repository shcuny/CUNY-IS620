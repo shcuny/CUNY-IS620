{
 "cells": [
  {
   "cell_type": "code",
   "execution_count": 1,
   "metadata": {
    "collapsed": true
   },
   "outputs": [],
   "source": [
    "import networkx as nx\n",
    "import matplotlib.pyplot as plt\n",
    "%matplotlib inline"
   ]
  },
  {
   "cell_type": "code",
   "execution_count": 2,
   "metadata": {
    "collapsed": true
   },
   "outputs": [],
   "source": [
    "G = nx.Graph()"
   ]
  },
  {
   "cell_type": "code",
   "execution_count": 3,
   "metadata": {
    "collapsed": true
   },
   "outputs": [],
   "source": [
    "#add nodes\n",
    "nodes = ['Andre', 'Beverly', 'Carol', 'Diane', \n",
    "        'Ed', 'Fernando', 'Heather', 'Ike', 'Jane']\n",
    "G.add_nodes_from(nodes)"
   ]
  },
  {
   "cell_type": "code",
   "execution_count": 4,
   "metadata": {
    "collapsed": true
   },
   "outputs": [],
   "source": [
    "#add edges\n",
    "edges = [('Andre', 'Beverly'),\n",
    "         ('Andre', 'Carol'),\n",
    "         ('Andre', 'Diane'),\n",
    "         ('Andre', 'Fernando'),\n",
    "         ('Beverly', 'Diane'),\n",
    "         ('Beverly', 'Garth'),\n",
    "         ('Beverly', 'Ed'),\n",
    "         ('Carol', 'Fernando'),\n",
    "         ('Carol', 'Diane'),\n",
    "         ('Ed', 'Diane'),\n",
    "         ('Ed', 'Garth'),\n",
    "         ('Diane', 'Fernando'),\n",
    "         ('Diane', 'Garth'),\n",
    "         ('Fernando','Garth'),\n",
    "         ('Heather', 'Fernando'),\n",
    "         ('Heather', 'Garth'),\n",
    "         ('Heather', 'Ike'),\n",
    "         ('Ike','Jane' )]\n",
    "G.add_edges_from(edges)"
   ]
  },
  {
   "cell_type": "code",
   "execution_count": 6,
   "metadata": {
    "collapsed": false
   },
   "outputs": [
    {
     "data": {
      "text/plain": [
       "{'Andre': 4,\n",
       " 'Beverly': 4,\n",
       " 'Carol': 3,\n",
       " 'Diane': 6,\n",
       " 'Ed': 3,\n",
       " 'Fernando': 5,\n",
       " 'Garth': 5,\n",
       " 'Heather': 3,\n",
       " 'Ike': 2,\n",
       " 'Jane': 1}"
      ]
     },
     "execution_count": 6,
     "metadata": {},
     "output_type": "execute_result"
    }
   ],
   "source": [
    "#Graph\n",
    "nx.degree(G)"
   ]
  },
  {
   "cell_type": "code",
   "execution_count": 11,
   "metadata": {
    "collapsed": false
   },
   "outputs": [
    {
     "data": {
      "image/png": "[encoded data removed]",
      "text/plain": [
       "<matplotlib.figure.Figure at 0x833c170>"
      ]
     },
     "metadata": {},
     "output_type": "display_data"
    }
   ],
   "source": [
    "#nx.draw(G, with_labels=True)\n",
    "nx.draw(G)\n",
    "plt.show()"
   ]
  }
 ],
 "metadata": {
  "kernelspec": {
   "display_name": "Python 2",
   "language": "python",
   "name": "python2"
  },
  "language_info": {
   "codemirror_mode": {
    "name": "ipython",
    "version": 2
   },
   "file_extension": ".py",
   "mimetype": "text/x-python",
   "name": "python",
   "nbconvert_exporter": "python",
   "pygments_lexer": "ipython2",
   "version": "2.7.13"
  }
 },
 "nbformat": 4,
 "nbformat_minor": 2
}
